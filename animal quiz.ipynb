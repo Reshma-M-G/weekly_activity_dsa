{
 "cells": [
  {
   "cell_type": "markdown",
   "id": "251ad3ab",
   "metadata": {},
   "source": [
    "# Animal Quiz"
   ]
  },
  {
   "cell_type": "code",
   "execution_count": 4,
   "id": "1232f8ac",
   "metadata": {},
   "outputs": [
    {
     "name": "stdout",
     "output_type": "stream",
     "text": [
      "Guess the Animal\n",
      "Are you ready for the Quizyes\n",
      "let's start\n",
      "Which bear lives at the North Pole? polar bear\n",
      "Correct Answer\n",
      "Which is the fastest land animal? cheetah\n",
      "Correct Answer\n",
      "Which is the larget animal? jiraffe\n",
      "Sorry Wrong Answer, try againelephant\n",
      "Sorry Wrong Answer, try againblue wha;\n",
      "The Correct answer is  Blue Whale\n",
      "Your Score is 2\n"
     ]
    }
   ],
   "source": [
    "def check_answer(guess, answer):\n",
    "    global score\n",
    "    re_attempting = True\n",
    "    attempt = 0\n",
    "    while re_attempting and attempt < 3:\n",
    "        if guess.lower() == answer.lower():\n",
    "            print(\"Correct Answer\")\n",
    "            score = score + 1\n",
    "            re_attempting = False\n",
    "        else:\n",
    "            if attempt < 2:\n",
    "                guess = input(\"Sorry Wrong Answer, try again\")\n",
    "            attempt = attempt + 1\n",
    "    if attempt == 3:\n",
    "        print(\"The Correct answer is \",answer )\n",
    "    \n",
    "score = 0\n",
    "print(\"Guess the Animal\")\n",
    "ans=input(\"Are you ready for the Quiz\")\n",
    "if ans.lower()=='yes':\n",
    "    print(\"let's start\")\n",
    "    attempt1 = input(\"Which bear lives at the North Pole? \")\n",
    "    check_answer(attempt1, \"polar bear\")\n",
    "    attempt2 = input(\"Which is the fastest land animal? \")\n",
    "    check_answer(attempt2, \"Cheetah\")\n",
    "    attempt3 = input(\"Which is the larget animal? \")\n",
    "    check_answer(attempt3, \"Blue Whale\")\n",
    "    print(\"Your Score is \"+ str(score))\n",
    "else:\n",
    "    print(\"Thank you\")        \n",
    "    "
   ]
  },
  {
   "cell_type": "code",
   "execution_count": null,
   "id": "48304a3c",
   "metadata": {
    "scrolled": true
   },
   "outputs": [],
   "source": [
    "\n",
    " \n"
   ]
  },
  {
   "cell_type": "code",
   "execution_count": null,
   "id": "08e24e0d",
   "metadata": {},
   "outputs": [],
   "source": [
    "\n"
   ]
  },
  {
   "cell_type": "code",
   "execution_count": null,
   "id": "4c202a07",
   "metadata": {},
   "outputs": [],
   "source": [
    "\n",
    "    "
   ]
  },
  {
   "cell_type": "code",
   "execution_count": null,
   "id": "e47c9487",
   "metadata": {},
   "outputs": [],
   "source": []
  },
  {
   "cell_type": "code",
   "execution_count": null,
   "id": "4ebaeea6",
   "metadata": {},
   "outputs": [],
   "source": []
  }
 ],
 "metadata": {
  "kernelspec": {
   "display_name": "Python 3",
   "language": "python",
   "name": "python3"
  },
  "language_info": {
   "codemirror_mode": {
    "name": "ipython",
    "version": 3
   },
   "file_extension": ".py",
   "mimetype": "text/x-python",
   "name": "python",
   "nbconvert_exporter": "python",
   "pygments_lexer": "ipython3",
   "version": "3.8.8"
  }
 },
 "nbformat": 4,
 "nbformat_minor": 5
}
